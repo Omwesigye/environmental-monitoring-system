{
 "cells": [
  {
   "cell_type": "code",
   "execution_count": 12,
   "id": "04d1ec26",
   "metadata": {},
   "outputs": [],
   "source": [
    "import pandas as pd\n",
    "from sklearn.model_selection import train_test_split\n",
    "from sklearn.ensemble import RandomForestRegressor\n",
    "from sklearn.metrics import mean_absolute_error\n",
    "import numpy as np\n",
    "from sklearn.multioutput import MultiOutputRegressor\n",
    "from sklearn.ensemble import RandomForestRegressor\n",
    "from sklearn.metrics import mean_squared_error\n",
    "\n"
   ]
  },
  {
   "cell_type": "code",
   "execution_count": 13,
   "id": "934346f9",
   "metadata": {},
   "outputs": [
    {
     "data": {
      "text/html": [
       "<div>\n",
       "<style scoped>\n",
       "    .dataframe tbody tr th:only-of-type {\n",
       "        vertical-align: middle;\n",
       "    }\n",
       "\n",
       "    .dataframe tbody tr th {\n",
       "        vertical-align: top;\n",
       "    }\n",
       "\n",
       "    .dataframe thead th {\n",
       "        text-align: right;\n",
       "    }\n",
       "</style>\n",
       "<table border=\"1\" class=\"dataframe\">\n",
       "  <thead>\n",
       "    <tr style=\"text-align: right;\">\n",
       "      <th></th>\n",
       "      <th>timestamp</th>\n",
       "      <th>battery</th>\n",
       "      <th>humidity</th>\n",
       "      <th>motion</th>\n",
       "      <th>temperature</th>\n",
       "    </tr>\n",
       "  </thead>\n",
       "  <tbody>\n",
       "    <tr>\n",
       "      <th>0</th>\n",
       "      <td>2025-09-14T15:21:09+03:00</td>\n",
       "      <td>3.081</td>\n",
       "      <td>66.1</td>\n",
       "      <td>7761</td>\n",
       "      <td>25.86</td>\n",
       "    </tr>\n",
       "    <tr>\n",
       "      <th>1</th>\n",
       "      <td>2025-09-14T15:23:36+03:00</td>\n",
       "      <td>3.080</td>\n",
       "      <td>66.1</td>\n",
       "      <td>7763</td>\n",
       "      <td>25.85</td>\n",
       "    </tr>\n",
       "    <tr>\n",
       "      <th>2</th>\n",
       "      <td>2025-09-14T15:25:07+03:00</td>\n",
       "      <td>3.081</td>\n",
       "      <td>66.2</td>\n",
       "      <td>7766</td>\n",
       "      <td>25.86</td>\n",
       "    </tr>\n",
       "    <tr>\n",
       "      <th>3</th>\n",
       "      <td>2025-09-14T15:25:40+03:00</td>\n",
       "      <td>3.081</td>\n",
       "      <td>66.3</td>\n",
       "      <td>7767</td>\n",
       "      <td>25.85</td>\n",
       "    </tr>\n",
       "    <tr>\n",
       "      <th>4</th>\n",
       "      <td>2025-09-14T15:28:06+03:00</td>\n",
       "      <td>3.079</td>\n",
       "      <td>66.3</td>\n",
       "      <td>7768</td>\n",
       "      <td>25.88</td>\n",
       "    </tr>\n",
       "  </tbody>\n",
       "</table>\n",
       "</div>"
      ],
      "text/plain": [
       "                   timestamp  battery  humidity  motion  temperature\n",
       "0  2025-09-14T15:21:09+03:00    3.081      66.1    7761        25.86\n",
       "1  2025-09-14T15:23:36+03:00    3.080      66.1    7763        25.85\n",
       "2  2025-09-14T15:25:07+03:00    3.081      66.2    7766        25.86\n",
       "3  2025-09-14T15:25:40+03:00    3.081      66.3    7767        25.85\n",
       "4  2025-09-14T15:28:06+03:00    3.079      66.3    7768        25.88"
      ]
     },
     "execution_count": 13,
     "metadata": {},
     "output_type": "execute_result"
    }
   ],
   "source": [
    "df = pd.read_csv(\"sensor_data.csv\", parse_dates=['timestamp'])\n",
    "df = df.sort_values('timestamp').reset_index(drop=True)\n",
    "df.head()"
   ]
  },
  {
   "cell_type": "code",
   "execution_count": 14,
   "id": "511ff7c8",
   "metadata": {},
   "outputs": [
    {
     "name": "stdout",
     "output_type": "stream",
     "text": [
      "<class 'pandas.core.frame.DataFrame'>\n",
      "RangeIndex: 949 entries, 0 to 948\n",
      "Data columns (total 5 columns):\n",
      " #   Column       Non-Null Count  Dtype  \n",
      "---  ------       --------------  -----  \n",
      " 0   timestamp    949 non-null    object \n",
      " 1   battery      949 non-null    float64\n",
      " 2   humidity     949 non-null    float64\n",
      " 3   motion       949 non-null    int64  \n",
      " 4   temperature  949 non-null    float64\n",
      "dtypes: float64(3), int64(1), object(1)\n",
      "memory usage: 37.2+ KB\n"
     ]
    }
   ],
   "source": [
    "df.shape\n",
    "df.info()"
   ]
  },
  {
   "cell_type": "code",
   "execution_count": 15,
   "id": "0966733f",
   "metadata": {},
   "outputs": [
    {
     "data": {
      "text/html": [
       "<div>\n",
       "<style scoped>\n",
       "    .dataframe tbody tr th:only-of-type {\n",
       "        vertical-align: middle;\n",
       "    }\n",
       "\n",
       "    .dataframe tbody tr th {\n",
       "        vertical-align: top;\n",
       "    }\n",
       "\n",
       "    .dataframe thead th {\n",
       "        text-align: right;\n",
       "    }\n",
       "</style>\n",
       "<table border=\"1\" class=\"dataframe\">\n",
       "  <thead>\n",
       "    <tr style=\"text-align: right;\">\n",
       "      <th></th>\n",
       "      <th>timestamp</th>\n",
       "      <th>battery</th>\n",
       "      <th>humidity</th>\n",
       "      <th>motion</th>\n",
       "      <th>temperature</th>\n",
       "    </tr>\n",
       "  </thead>\n",
       "  <tbody>\n",
       "    <tr>\n",
       "      <th>count</th>\n",
       "      <td>949</td>\n",
       "      <td>949.000000</td>\n",
       "      <td>949.000000</td>\n",
       "      <td>949.000000</td>\n",
       "      <td>949.000000</td>\n",
       "    </tr>\n",
       "    <tr>\n",
       "      <th>unique</th>\n",
       "      <td>949</td>\n",
       "      <td>NaN</td>\n",
       "      <td>NaN</td>\n",
       "      <td>NaN</td>\n",
       "      <td>NaN</td>\n",
       "    </tr>\n",
       "    <tr>\n",
       "      <th>top</th>\n",
       "      <td>2025-09-14T15:21:09+03:00</td>\n",
       "      <td>NaN</td>\n",
       "      <td>NaN</td>\n",
       "      <td>NaN</td>\n",
       "      <td>NaN</td>\n",
       "    </tr>\n",
       "    <tr>\n",
       "      <th>freq</th>\n",
       "      <td>1</td>\n",
       "      <td>NaN</td>\n",
       "      <td>NaN</td>\n",
       "      <td>NaN</td>\n",
       "      <td>NaN</td>\n",
       "    </tr>\n",
       "    <tr>\n",
       "      <th>mean</th>\n",
       "      <td>NaN</td>\n",
       "      <td>3.082228</td>\n",
       "      <td>66.256375</td>\n",
       "      <td>11895.880927</td>\n",
       "      <td>25.579758</td>\n",
       "    </tr>\n",
       "    <tr>\n",
       "      <th>std</th>\n",
       "      <td>NaN</td>\n",
       "      <td>0.004677</td>\n",
       "      <td>3.221092</td>\n",
       "      <td>6162.312172</td>\n",
       "      <td>0.673838</td>\n",
       "    </tr>\n",
       "    <tr>\n",
       "      <th>min</th>\n",
       "      <td>NaN</td>\n",
       "      <td>3.067000</td>\n",
       "      <td>52.000000</td>\n",
       "      <td>155.000000</td>\n",
       "      <td>23.770000</td>\n",
       "    </tr>\n",
       "    <tr>\n",
       "      <th>25%</th>\n",
       "      <td>NaN</td>\n",
       "      <td>3.082000</td>\n",
       "      <td>64.700000</td>\n",
       "      <td>8050.000000</td>\n",
       "      <td>24.960000</td>\n",
       "    </tr>\n",
       "    <tr>\n",
       "      <th>50%</th>\n",
       "      <td>NaN</td>\n",
       "      <td>3.084000</td>\n",
       "      <td>66.000000</td>\n",
       "      <td>12764.000000</td>\n",
       "      <td>25.600000</td>\n",
       "    </tr>\n",
       "    <tr>\n",
       "      <th>75%</th>\n",
       "      <td>NaN</td>\n",
       "      <td>3.085000</td>\n",
       "      <td>68.700000</td>\n",
       "      <td>15774.000000</td>\n",
       "      <td>26.090000</td>\n",
       "    </tr>\n",
       "    <tr>\n",
       "      <th>max</th>\n",
       "      <td>NaN</td>\n",
       "      <td>3.088000</td>\n",
       "      <td>76.400000</td>\n",
       "      <td>22417.000000</td>\n",
       "      <td>27.150000</td>\n",
       "    </tr>\n",
       "  </tbody>\n",
       "</table>\n",
       "</div>"
      ],
      "text/plain": [
       "                        timestamp     battery    humidity        motion  \\\n",
       "count                         949  949.000000  949.000000    949.000000   \n",
       "unique                        949         NaN         NaN           NaN   \n",
       "top     2025-09-14T15:21:09+03:00         NaN         NaN           NaN   \n",
       "freq                            1         NaN         NaN           NaN   \n",
       "mean                          NaN    3.082228   66.256375  11895.880927   \n",
       "std                           NaN    0.004677    3.221092   6162.312172   \n",
       "min                           NaN    3.067000   52.000000    155.000000   \n",
       "25%                           NaN    3.082000   64.700000   8050.000000   \n",
       "50%                           NaN    3.084000   66.000000  12764.000000   \n",
       "75%                           NaN    3.085000   68.700000  15774.000000   \n",
       "max                           NaN    3.088000   76.400000  22417.000000   \n",
       "\n",
       "        temperature  \n",
       "count    949.000000  \n",
       "unique          NaN  \n",
       "top             NaN  \n",
       "freq            NaN  \n",
       "mean      25.579758  \n",
       "std        0.673838  \n",
       "min       23.770000  \n",
       "25%       24.960000  \n",
       "50%       25.600000  \n",
       "75%       26.090000  \n",
       "max       27.150000  "
      ]
     },
     "execution_count": 15,
     "metadata": {},
     "output_type": "execute_result"
    }
   ],
   "source": [
    "df.describe(include='all')"
   ]
  },
  {
   "cell_type": "code",
   "execution_count": 16,
   "id": "982f79a3",
   "metadata": {},
   "outputs": [
    {
     "data": {
      "text/plain": [
       "timestamp      0\n",
       "battery        0\n",
       "humidity       0\n",
       "motion         0\n",
       "temperature    0\n",
       "dtype: int64"
      ]
     },
     "execution_count": 16,
     "metadata": {},
     "output_type": "execute_result"
    }
   ],
   "source": [
    "df.isnull().sum()"
   ]
  },
  {
   "cell_type": "code",
   "execution_count": 17,
   "id": "8a553b40",
   "metadata": {},
   "outputs": [
    {
     "name": "stdout",
     "output_type": "stream",
     "text": [
      "Number of duplicates: 0\n"
     ]
    }
   ],
   "source": [
    "print(f\"Number of duplicates: {df.duplicated().sum()}\")"
   ]
  },
  {
   "cell_type": "code",
   "execution_count": 18,
   "id": "6aa77bda",
   "metadata": {},
   "outputs": [],
   "source": [
    "# Create lag features for temperature\n",
    "df['temp_lag1'] = df['temperature'].shift(1)\n",
    "df['temp_lag2'] = df['temperature'].shift(2)\n",
    "df['temp_lag3'] = df['temperature'].shift(3)\n",
    "\n",
    "# Create lag features for humidity\n",
    "df['hum_lag1'] = df['humidity'].shift(1)\n",
    "df['hum_lag2'] = df['humidity'].shift(2)\n",
    "df['hum_lag3'] = df['humidity'].shift(3)\n",
    "\n",
    "# Target: next reading (~30 min ahead)\n",
    "df['temp_next'] = df['temperature'].shift(-1)\n",
    "df['hum_next'] = df['humidity'].shift(-1)\n",
    "\n",
    "# Drop rows with NaN due to shifting\n",
    "df.dropna(inplace=True)\n"
   ]
  },
  {
   "cell_type": "code",
   "execution_count": 19,
   "id": "af50fa75",
   "metadata": {},
   "outputs": [],
   "source": [
    "features = ['temp_lag1','temp_lag2','temp_lag3',\n",
    "            'hum_lag1','hum_lag2','hum_lag3']\n",
    "\n",
    "X = df[features]\n",
    "Y = df[['temp_next', 'hum_next']]   # two targets together\n",
    "\n",
    "# Chronological split (no shuffling)\n",
    "split_idx = int(len(df)*0.8)\n",
    "X_train, X_test = X.iloc[:split_idx], X.iloc[split_idx:]\n",
    "Y_train, Y_test = Y.iloc[:split_idx], Y.iloc[split_idx:]"
   ]
  },
  {
   "cell_type": "code",
   "execution_count": 20,
   "id": "d849869b",
   "metadata": {},
   "outputs": [
    {
     "name": "stdout",
     "output_type": "stream",
     "text": [
      "Temp RMSE: 0.247\n",
      "Hum  RMSE: 1.315\n"
     ]
    }
   ],
   "source": [
    "rf = MultiOutputRegressor(\n",
    "        RandomForestRegressor(\n",
    "            n_estimators=200,\n",
    "            random_state=42\n",
    "        )\n",
    "    )\n",
    "\n",
    "# Train\n",
    "rf.fit(X_train, Y_train)\n",
    "\n",
    "# Predict\n",
    "Y_pred = rf.predict(X_test)\n",
    "\n",
    "# Separate predictions if needed\n",
    "temp_pred = Y_pred[:, 0]\n",
    "hum_pred  = Y_pred[:, 1]\n",
    "\n",
    "# Evaluate (example with RMSE for each target)\n",
    "rmse_temp = np.sqrt(mean_squared_error(Y_test.iloc[:,0], temp_pred))\n",
    "rmse_hum  = np.sqrt(mean_squared_error(Y_test.iloc[:,1], hum_pred))\n",
    "\n",
    "print(f\"Temp RMSE: {rmse_temp:.3f}\")\n",
    "print(f\"Hum  RMSE: {rmse_hum:.3f}\")"
   ]
  },
  {
   "cell_type": "code",
   "execution_count": 21,
   "id": "d38ff1e5",
   "metadata": {},
   "outputs": [
    {
     "data": {
      "text/plain": [
       "['temp_hum_model.joblib']"
      ]
     },
     "execution_count": 21,
     "metadata": {},
     "output_type": "execute_result"
    }
   ],
   "source": [
    "import joblib\n",
    "\n",
    "# Save the combined temperature + humidity model\n",
    "joblib.dump(rf, \"temp_hum_model.joblib\")\n"
   ]
  },
  {
   "cell_type": "code",
   "execution_count": 22,
   "id": "bd0eb094",
   "metadata": {},
   "outputs": [
    {
     "name": "stdout",
     "output_type": "stream",
     "text": [
      "Next reading forecast -> Temp: 25.95 °C, Humidity: 67.8 %\n"
     ]
    }
   ],
   "source": [
    "import joblib\n",
    "import pandas as pd\n",
    "\n",
    "# Load the combined model\n",
    "rf = joblib.load(\"temp_hum_model.joblib\")\n",
    "\n",
    "# Take the last 3 readings\n",
    "latest = df[['temperature', 'humidity']].tail(3)\n",
    "\n",
    "latest_features = pd.DataFrame({\n",
    "    \"temp_lag1\": [latest[\"temperature\"].iloc[2]],\n",
    "    \"temp_lag2\": [latest[\"temperature\"].iloc[1]],\n",
    "    \"temp_lag3\": [latest[\"temperature\"].iloc[0]],\n",
    "    \"hum_lag1\":  [latest[\"humidity\"].iloc[2]],\n",
    "    \"hum_lag2\":  [latest[\"humidity\"].iloc[1]],\n",
    "    \"hum_lag3\":  [latest[\"humidity\"].iloc[0]],\n",
    "})\n",
    "\n",
    "# Predict: returns [[pred_temp, pred_hum]]\n",
    "pred = rf.predict(latest_features)[0]\n",
    "pred_temp, pred_hum = pred[0], pred[1]\n",
    "\n",
    "print(f\"Next reading forecast -> Temp: {pred_temp:.2f} °C, Humidity: {pred_hum:.1f} %\")\n"
   ]
  }
 ],
 "metadata": {
  "kernelspec": {
   "display_name": "venv",
   "language": "python",
   "name": "python3"
  },
  "language_info": {
   "codemirror_mode": {
    "name": "ipython",
    "version": 3
   },
   "file_extension": ".py",
   "mimetype": "text/x-python",
   "name": "python",
   "nbconvert_exporter": "python",
   "pygments_lexer": "ipython3",
   "version": "3.11.3"
  }
 },
 "nbformat": 4,
 "nbformat_minor": 5
}
